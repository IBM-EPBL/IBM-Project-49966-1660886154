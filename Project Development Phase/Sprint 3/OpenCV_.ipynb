{
  "metadata": {
    "language_info": {
      "file_extension": ".sqlite3-console",
      "mimetype": "text/x-sqlite3-console",
      "name": "sqlite3",
      "version": "0.4.0"
    },
    "kernelspec": {
      "name": "SQLite",
      "display_name": "SQLite",
      "language": "sql"
    }
  },
  "nbformat_minor": 4,
  "nbformat": 4,
  "cells": [
    {
      "cell_type": "raw",
      "source": "Importing req. lib.",
      "metadata": {}
    },
    {
      "cell_type": "code",
      "source": "import cv2\nimport numpy as np\nimport matplotlib.pyplot as plt",
      "metadata": {},
      "execution_count": null,
      "outputs": []
    },
    {
      "cell_type": "code",
      "source": "Image processiong",
      "metadata": {},
      "execution_count": null,
      "outputs": []
    },
    {
      "cell_type": "code",
      "source": "# Drawing Functions\n",
      "metadata": {},
      "execution_count": null,
      "outputs": []
    },
    {
      "cell_type": "code",
      "source": "# Draw a circle\n\ncircle = cv2.circle(img1, (300,200), 50, (255,0,0), -1)   # (0,0,0)--->(R,G,B)\nplt.imshow(img1)\n",
      "metadata": {},
      "execution_count": null,
      "outputs": []
    },
    {
      "cell_type": "code",
      "source": "# Drawing rectangle\n\nrectangle = cv2.rectangle(img1,(200,100),(400,300),(0,255,0),6)\nplt.imshow(img1)",
      "metadata": {},
      "execution_count": null,
      "outputs": []
    },
    {
      "cell_type": "code",
      "source": "# Drawing line\n\nline1 = cv2.line(img1,(200,100),(400,300),(0,0,255),4)\nline2 = cv2.line(img1,(200,300),(400,100),(0,0,255),4)\nplt.imshow(img1)\n",
      "metadata": {},
      "execution_count": null,
      "outputs": []
    },
    {
      "cell_type": "code",
      "source": "circle = cv2.circle(img1, (300,200), 50, (255,255,0), -1)   # (0,0,0)--->(R,G,B)\nplt.imshow(img1)",
      "metadata": {},
      "execution_count": null,
      "outputs": []
    },
    {
      "cell_type": "code",
      "source": "# Text on image\n\ntext = cv2.putText(img1, 'openCV', (200,50), cv2.FONT_HERSHEY_SIMPLEX, 2, (255,255,255),5)\nplt.imshow(img1)",
      "metadata": {},
      "execution_count": null,
      "outputs": []
    },
    {
      "cell_type": "code",
      "source": "# Reading the image\n\nimg = cv2.imread('/content/boy.jpg',1)\nplt.imshow(img)",
      "metadata": {},
      "execution_count": null,
      "outputs": []
    },
    {
      "cell_type": "code",
      "source": "# Convert BGR to RGB\n\nimg_rgb = cv2.cvtColor(img, cv2.COLOR_BGR2RGB)\nplt.imshow(img_rgb)",
      "metadata": {},
      "execution_count": null,
      "outputs": []
    },
    {
      "cell_type": "code",
      "source": "# Convert BGR to Gray\n\nimg_gray = cv2.cvtColor(img, cv2.COLOR_BGR2GRAY)\nplt.imshow(img_gray)",
      "metadata": {},
      "execution_count": null,
      "outputs": []
    },
    {
      "cell_type": "code",
      "source": "# Finding shape\n\nimg_rgb.shape",
      "metadata": {},
      "execution_count": null,
      "outputs": []
    },
    {
      "cell_type": "code",
      "source": "OUT(983, 736, 3)",
      "metadata": {},
      "execution_count": null,
      "outputs": []
    },
    {
      "cell_type": "code",
      "source": "# Resize the image\n\nresize = cv2.resize(img_rgb,(500,1000))\nprint(resize.shape)\nplt.imshow(resize)",
      "metadata": {},
      "execution_count": null,
      "outputs": []
    },
    {
      "cell_type": "code",
      "source": "# Image crop\n\ncrop = resize[130:370,150:300]\nplt.imshow(crop)",
      "metadata": {},
      "execution_count": null,
      "outputs": []
    },
    {
      "cell_type": "code",
      "source": "# Edge Detection\n\nedge = cv2.Canny(img_rgb,100,200)\nplt.imshow(edge)",
      "metadata": {},
      "execution_count": null,
      "outputs": []
    },
    {
      "cell_type": "code",
      "source": "# Blur image\n\nr = resize[130:370,150:300]\nblur = cv2.GaussianBlur(r,(13,13),cv2.BORDER_DEFAULT)\nplt.imshow(resize)\nplt.imshow(blur)",
      "metadata": {},
      "execution_count": null,
      "outputs": []
    }
  ]
}