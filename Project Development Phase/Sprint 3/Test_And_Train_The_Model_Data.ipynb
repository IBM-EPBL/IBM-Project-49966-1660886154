{
  "metadata": {
    "language_info": {
      "codemirror_mode": {
        "name": "python",
        "version": 3
      },
      "file_extension": ".py",
      "mimetype": "text/x-python",
      "name": "python",
      "nbconvert_exporter": "python",
      "pygments_lexer": "ipython3",
      "version": "3.8"
    },
    "kernelspec": {
      "name": "python",
      "display_name": "Python (Pyodide)",
      "language": "python"
    }
  },
  "nbformat_minor": 4,
  "nbformat": 4,
  "cells": [
    {
      "cell_type": "code",
      "source": "IBM Project Name: Real-Time Communication System Powered by AI for Specially Abled\nTEAM ID: PNT2022TMID46015\nTEAM Member:Akash S",
      "metadata": {},
      "execution_count": null,
      "outputs": []
    },
    {
      "cell_type": "code",
      "source": "import os\nimport cv2\nimport numpy as np\nimport matplotlib.pyplot as plt\nfrom keras.preprocessing.image import ImageDataGenerator",
      "metadata": {},
      "execution_count": null,
      "outputs": []
    },
    {
      "cell_type": "code",
      "source": "Define DATA FILES\n\ndef rename_imgs(file_name):\n    folder_path = r'test_dataset/'+file_name\n\n    num = 0\n    for file in os.listdir(folder_path):\n        # if num%10 == 0:\n        #     print(f'Renamed {num} files...')\n        # os.rename(folder_path+'\\\\'+file, folder_path+'\\\\'+file_name+'_'+str(num)+'.jpeg')\n        num += 1\nfn = 'Space'\nrename_imgs(fn)\nfile_names = '0123456789'+'ABCDEFGHIJKLMNOPQRSTUVWXYZ'\nfor fn in file_names:\n    rename_imgs(fn)",
      "metadata": {},
      "execution_count": null,
      "outputs": []
    },
    {
      "cell_type": "code",
      "source": "SAMPLE IMAGES FROM DATASET\n\ntrain_data_path = 'train_dataset/'\ntest_data_path = 'test_dataset/'\ndef display(img,sign=None):\n    \n    img = cv2.cvtColor(img,cv2.COLOR_BGR2RGB)\n    fig = plt.figure(figsize=(7,7))\n    ax = fig.add_subplot(111)\n    plt.title(sign)\n    ax.imshow(img)",
      "metadata": {},
      "execution_count": null,
      "outputs": []
    },
    {
      "cell_type": "code",
      "source": "Training Data Set\n\nsign_img = cv2.imread(train_data_path+'A/A_204.jpeg')\ndisplay(sign_img,'A')\n\nsign_img = cv2.imread(train_data_path+'3/3_340.jpeg')\ndisplay(sign_img,'3')\n\nsign_img = cv2.imread(train_data_path+'S/S_10.jpeg')\ndisplay(sign_img,'Space')\n\nTest Data Set\n\nsign_img = cv2.imread(test_data_path+'S/S_15.jpeg')\ndisplay(sign_img,'S')\n\nsign_img = cv2.imread(test_data_path+'Z/Z_1.jpeg')\ndisplay(sign_img,'Z')\n",
      "metadata": {},
      "execution_count": null,
      "outputs": []
    },
    {
      "cell_type": "code",
      "source": "Image Data Generator\n\nimage_gen = ImageDataGenerator(rotation_range=30,\n                              width_shift_range=0.1,\n                              height_shift_range=0.1,\n                              shear_range=0.2,\n                              zoom_range=0.2,\n                              rescale=1/255,\n                              horizontal_flip=True,\n                              fill_mode='nearest',\n                              validation_split=0.25)",
      "metadata": {},
      "execution_count": null,
      "outputs": []
    },
    {
      "cell_type": "code",
      "source": "Original Image\nsign_img = cv2.imread(train_data_path+'3/3_100.jpeg')\ndisplay(sign_img,'3')\n",
      "metadata": {},
      "execution_count": null,
      "outputs": []
    },
    {
      "cell_type": "code",
      "source": "Augmented Images\ndisplay(image_gen.random_transform(sign_img))\nSplit into Test & Validation dataset\n\nTrain Data Generator\n\ntrain_data_gen = image_gen.flow_from_directory(train_data_path,\n                                           target_size=(250,250),\n                                           batch_size=16,\n                                           shuffle=True,\n                                           class_mode='binary',\n                                           subset='training')\nFound 41625 images belonging to 37 classes.\nValidation Data Generator\n\nvalidation_data_gen = image_gen.flow_from_directory(train_data_path,\n                                           target_size=(250,250),\n                                           batch_size=16,\n                                           shuffle=True,\n                                           class_mode='binary',\n                                           subset='validation')\nFound 13875 images belonging to 37 classes.\nTest Data Generator\n\ntest_data_gen = image_gen.flow_from_directory(test_data_path,\n                                           target_size=(250,250),\n                                           batch_size=8,\n                                           shuffle=True,\n                                           class_mode='categorical',\n                                           )\nFound 2586 images belonging to 37 classes.\ntrain_data_gen.class_indices\n{'0': 0,\n '1': 1,\n '2': 2,\n '3': 3,\n '4': 4,\n '5': 5,\n '6': 6,\n '7': 7,\n '8': 8,\n '9': 9,\n 'A': 10,\n 'B': 11,\n 'C': 12,\n 'D': 13,\n 'E': 14,\n 'F': 15,\n 'G': 16,\n 'H': 17,\n 'I': 18,\n 'J': 19,\n 'K': 20,\n 'L': 21,\n 'M': 22,\n 'N': 23,\n 'O': 24,\n 'P': 25,\n 'Q': 26,\n 'R': 27,\n 'S': 28,\n 'Space': 29,\n 'T': 30,\n 'U': 31,\n 'V': 32,\n 'W': 33,\n 'X': 34,\n 'Y': 35,\n 'Z': 36}\ntest_data_gen.classes\narray([ 0,  0,  0, ..., 36, 36, 36])\nlen(train_data_gen.classes)\n41625",
      "metadata": {},
      "execution_count": null,
      "outputs": []
    }
  ]
}