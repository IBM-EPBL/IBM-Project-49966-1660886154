{
  "metadata": {
    "language_info": {
      "codemirror_mode": {
        "name": "python",
        "version": 3
      },
      "file_extension": ".py",
      "mimetype": "text/x-python",
      "name": "python",
      "nbconvert_exporter": "python",
      "pygments_lexer": "ipython3",
      "version": "3.8"
    },
    "kernelspec": {
      "name": "python",
      "display_name": "Python (Pyodide)",
      "language": "python"
    }
  },
  "nbformat_minor": 4,
  "nbformat": 4,
  "cells": [
    {
      "cell_type": "code",
      "source": "import cv2 #mporting opencv Library this i to open camera and take the video\nimport numpy as np # to convert image to array and expand dimensions\nfrom tensorflow.keras.models import load_model # to Load the saved model\nfrom tensorflow.keras.preprocessing import image # to preproccess the image\nmodel = load_model(\"dataset.h5\") # we are loading the saved moodek\nvideo = cv2.VideoCapture(0) # two parameters 1, bool 0 or 1, frame\nindex = [\"A\",\"B\",\"C\",\"D\",\"E\",\"F\",\"G\",\"H\",\"I\"]\nindex=['A','B','C','D','E','F','G','H','I']\n#from playsound import playsound\nwhile(1):\n    success,frame = video.read()\n    cv2.imwrite(\"image.jpg\",frame)\n    img = image.load_img(\"image.jpg\",target_size = (64,64))\n    x = image.img_to_array(img)\n    x = np.expand_dims (x,axis = 0)\n    pred = np.argmax(model.predict(x),axis=1)\n    p = index [pred[0]]\n    print(\"predicted letter is: \"+ str(p))\n    #playSound(\"letter\"+str(str(index [p])+\"is detected\"))\n    cv2.putText (frame, \"predicted letter is \"+str(p), (100, 100), cv2. FONT_HERSHEY_SIMPLEX, 1,(0,0,0), 4)\n    cv2.imshow(\"showcasewindow\", frame)\n    \n    if cv2.waitkey(1) & 0xFF == ord('a'):\n        break\nvideo.release()\ncv2.destroyAllwindows()",
      "metadata": {},
      "execution_count": null,
      "outputs": []
    }
  ]
}